{
 "cells": [
  {
   "cell_type": "code",
   "execution_count": 2,
   "metadata": {},
   "outputs": [
    {
     "name": "stdout",
     "output_type": "stream",
     "text": [
      "Requirement already satisfied: llama_index in d:\\anaconda3\\lib\\site-packages (0.10.36)\n",
      "Requirement already satisfied: llama-index-embeddings-openai<0.2.0,>=0.1.5 in d:\\anaconda3\\lib\\site-packages (from llama_index) (0.1.9)\n",
      "Requirement already satisfied: llama-index-llms-openai<0.2.0,>=0.1.13 in d:\\anaconda3\\lib\\site-packages (from llama_index) (0.1.18)\n",
      "Requirement already satisfied: llama-index-legacy<0.10.0,>=0.9.48 in d:\\anaconda3\\lib\\site-packages (from llama_index) (0.9.48)\n",
      "Requirement already satisfied: llama-index-readers-file<0.2.0,>=0.1.4 in d:\\anaconda3\\lib\\site-packages (from llama_index) (0.1.22)\n",
      "Requirement already satisfied: llama-index-readers-llama-parse<0.2.0,>=0.1.2 in d:\\anaconda3\\lib\\site-packages (from llama_index) (0.1.4)\n",
      "Requirement already satisfied: llama-index-indices-managed-llama-cloud<0.2.0,>=0.1.2 in d:\\anaconda3\\lib\\site-packages (from llama_index) (0.1.6)\n",
      "Requirement already satisfied: llama-index-multi-modal-llms-openai<0.2.0,>=0.1.3 in d:\\anaconda3\\lib\\site-packages (from llama_index) (0.1.5)\n",
      "Requirement already satisfied: llama-index-program-openai<0.2.0,>=0.1.3 in d:\\anaconda3\\lib\\site-packages (from llama_index) (0.1.6)\n",
      "Requirement already satisfied: llama-index-question-gen-openai<0.2.0,>=0.1.2 in d:\\anaconda3\\lib\\site-packages (from llama_index) (0.1.3)\n",
      "Requirement already satisfied: llama-index-cli<0.2.0,>=0.1.2 in d:\\anaconda3\\lib\\site-packages (from llama_index) (0.1.12)\n",
      "Requirement already satisfied: llama-index-agent-openai<0.3.0,>=0.1.4 in d:\\anaconda3\\lib\\site-packages (from llama_index) (0.2.4)\n",
      "Requirement already satisfied: llama-index-core<0.11.0,>=0.10.35 in d:\\anaconda3\\lib\\site-packages (from llama_index) (0.10.36)\n",
      "Requirement already satisfied: openai>=1.14.0 in d:\\anaconda3\\lib\\site-packages (from llama-index-agent-openai<0.3.0,>=0.1.4->llama_index) (1.28.1)\n",
      "Requirement already satisfied: pandas in d:\\anaconda3\\lib\\site-packages (from llama-index-core<0.11.0,>=0.10.35->llama_index) (1.2.4)\n",
      "Requirement already satisfied: dirtyjson<2.0.0,>=1.0.8 in d:\\anaconda3\\lib\\site-packages (from llama-index-core<0.11.0,>=0.10.35->llama_index) (1.0.8)\n",
      "Requirement already satisfied: numpy in d:\\anaconda3\\lib\\site-packages (from llama-index-core<0.11.0,>=0.10.35->llama_index) (1.19.5)\n",
      "Requirement already satisfied: fsspec>=2023.5.0 in d:\\anaconda3\\lib\\site-packages (from llama-index-core<0.11.0,>=0.10.35->llama_index) (2024.3.1)\n",
      "Requirement already satisfied: dataclasses-json in d:\\anaconda3\\lib\\site-packages (from llama-index-core<0.11.0,>=0.10.35->llama_index) (0.6.6)\n",
      "Requirement already satisfied: typing-inspect>=0.8.0 in d:\\anaconda3\\lib\\site-packages (from llama-index-core<0.11.0,>=0.10.35->llama_index) (0.9.0)\n",
      "Requirement already satisfied: tenacity<9.0.0,>=8.2.0 in d:\\anaconda3\\lib\\site-packages (from llama-index-core<0.11.0,>=0.10.35->llama_index) (8.3.0)\n",
      "Requirement already satisfied: httpx in d:\\anaconda3\\lib\\site-packages (from llama-index-core<0.11.0,>=0.10.35->llama_index) (0.27.0)\n",
      "Requirement already satisfied: llamaindex-py-client<0.2.0,>=0.1.18 in d:\\anaconda3\\lib\\site-packages (from llama-index-core<0.11.0,>=0.10.35->llama_index) (0.1.19)\n",
      "Requirement already satisfied: networkx>=3.0 in d:\\anaconda3\\lib\\site-packages (from llama-index-core<0.11.0,>=0.10.35->llama_index) (3.1)\n",
      "Requirement already satisfied: tqdm<5.0.0,>=4.66.1 in d:\\anaconda3\\lib\\site-packages (from llama-index-core<0.11.0,>=0.10.35->llama_index) (4.66.4)\n",
      "Requirement already satisfied: aiohttp<4.0.0,>=3.8.6 in d:\\anaconda3\\lib\\site-packages (from llama-index-core<0.11.0,>=0.10.35->llama_index) (3.9.5)\n",
      "Requirement already satisfied: typing-extensions>=4.5.0 in d:\\anaconda3\\lib\\site-packages (from llama-index-core<0.11.0,>=0.10.35->llama_index) (4.11.0)\n",
      "Requirement already satisfied: deprecated>=1.2.9.3 in d:\\anaconda3\\lib\\site-packages (from llama-index-core<0.11.0,>=0.10.35->llama_index) (1.2.14)\n",
      "Requirement already satisfied: PyYAML>=6.0.1 in d:\\anaconda3\\lib\\site-packages (from llama-index-core<0.11.0,>=0.10.35->llama_index) (6.0.1)\n",
      "Requirement already satisfied: nest-asyncio<2.0.0,>=1.5.8 in d:\\anaconda3\\lib\\site-packages (from llama-index-core<0.11.0,>=0.10.35->llama_index) (1.6.0)\n",
      "Requirement already satisfied: pillow>=9.0.0 in d:\\anaconda3\\lib\\site-packages (from llama-index-core<0.11.0,>=0.10.35->llama_index) (10.3.0)\n",
      "Requirement already satisfied: requests>=2.31.0 in d:\\anaconda3\\lib\\site-packages (from llama-index-core<0.11.0,>=0.10.35->llama_index) (2.31.0)\n",
      "Requirement already satisfied: tiktoken>=0.3.3 in d:\\anaconda3\\lib\\site-packages (from llama-index-core<0.11.0,>=0.10.35->llama_index) (0.6.0)\n",
      "Requirement already satisfied: wrapt in d:\\anaconda3\\lib\\site-packages (from llama-index-core<0.11.0,>=0.10.35->llama_index) (1.12.1)\n",
      "Requirement already satisfied: nltk<4.0.0,>=3.8.1 in d:\\anaconda3\\lib\\site-packages (from llama-index-core<0.11.0,>=0.10.35->llama_index) (3.8.1)\n",
      "Requirement already satisfied: SQLAlchemy[asyncio]>=1.4.49 in d:\\anaconda3\\lib\\site-packages (from llama-index-core<0.11.0,>=0.10.35->llama_index) (2.0.30)\n",
      "Requirement already satisfied: frozenlist>=1.1.1 in d:\\anaconda3\\lib\\site-packages (from aiohttp<4.0.0,>=3.8.6->llama-index-core<0.11.0,>=0.10.35->llama_index) (1.4.1)\n",
      "Requirement already satisfied: aiosignal>=1.1.2 in d:\\anaconda3\\lib\\site-packages (from aiohttp<4.0.0,>=3.8.6->llama-index-core<0.11.0,>=0.10.35->llama_index) (1.3.1)\n",
      "Requirement already satisfied: multidict<7.0,>=4.5 in d:\\anaconda3\\lib\\site-packages (from aiohttp<4.0.0,>=3.8.6->llama-index-core<0.11.0,>=0.10.35->llama_index) (6.0.5)\n",
      "Requirement already satisfied: async-timeout<5.0,>=4.0 in d:\\anaconda3\\lib\\site-packages (from aiohttp<4.0.0,>=3.8.6->llama-index-core<0.11.0,>=0.10.35->llama_index) (4.0.3)\n",
      "Requirement already satisfied: yarl<2.0,>=1.0 in d:\\anaconda3\\lib\\site-packages (from aiohttp<4.0.0,>=3.8.6->llama-index-core<0.11.0,>=0.10.35->llama_index) (1.9.4)\n",
      "Requirement already satisfied: attrs>=17.3.0 in d:\\anaconda3\\lib\\site-packages (from aiohttp<4.0.0,>=3.8.6->llama-index-core<0.11.0,>=0.10.35->llama_index) (20.3.0)\n",
      "Requirement already satisfied: beautifulsoup4<5.0.0,>=4.12.3 in d:\\anaconda3\\lib\\site-packages (from llama-index-readers-file<0.2.0,>=0.1.4->llama_index) (4.12.3)\n",
      "Requirement already satisfied: striprtf<0.0.27,>=0.0.26 in d:\\anaconda3\\lib\\site-packages (from llama-index-readers-file<0.2.0,>=0.1.4->llama_index) (0.0.26)\n",
      "Requirement already satisfied: pypdf<5.0.0,>=4.0.1 in d:\\anaconda3\\lib\\site-packages (from llama-index-readers-file<0.2.0,>=0.1.4->llama_index) (4.2.0)\n",
      "Requirement already satisfied: soupsieve>1.2 in d:\\anaconda3\\lib\\site-packages (from beautifulsoup4<5.0.0,>=4.12.3->llama-index-readers-file<0.2.0,>=0.1.4->llama_index) (2.2.1)\n",
      "Requirement already satisfied: llama-parse<0.5.0,>=0.4.0 in d:\\anaconda3\\lib\\site-packages (from llama-index-readers-llama-parse<0.2.0,>=0.1.2->llama_index) (0.4.2)\n",
      "Requirement already satisfied: pydantic>=1.10 in d:\\anaconda3\\lib\\site-packages (from llamaindex-py-client<0.2.0,>=0.1.18->llama-index-core<0.11.0,>=0.10.35->llama_index) (2.7.1)\n",
      "Requirement already satisfied: httpcore==1.* in d:\\anaconda3\\lib\\site-packages (from httpx->llama-index-core<0.11.0,>=0.10.35->llama_index) (1.0.5)\n",
      "Requirement already satisfied: idna in d:\\anaconda3\\lib\\site-packages (from httpx->llama-index-core<0.11.0,>=0.10.35->llama_index) (2.10)\n",
      "Requirement already satisfied: certifi in d:\\anaconda3\\lib\\site-packages (from httpx->llama-index-core<0.11.0,>=0.10.35->llama_index) (2020.12.5)\n",
      "Requirement already satisfied: anyio in d:\\anaconda3\\lib\\site-packages (from httpx->llama-index-core<0.11.0,>=0.10.35->llama_index) (4.3.0)\n",
      "Requirement already satisfied: sniffio in d:\\anaconda3\\lib\\site-packages (from httpx->llama-index-core<0.11.0,>=0.10.35->llama_index) (1.2.0)\n",
      "Requirement already satisfied: h11<0.15,>=0.13 in d:\\anaconda3\\lib\\site-packages (from httpcore==1.*->httpx->llama-index-core<0.11.0,>=0.10.35->llama_index) (0.14.0)\n",
      "Requirement already satisfied: regex>=2021.8.3 in d:\\anaconda3\\lib\\site-packages (from nltk<4.0.0,>=3.8.1->llama-index-core<0.11.0,>=0.10.35->llama_index) (2024.5.10)\n",
      "Requirement already satisfied: joblib in d:\\anaconda3\\lib\\site-packages (from nltk<4.0.0,>=3.8.1->llama-index-core<0.11.0,>=0.10.35->llama_index) (1.0.1)\n",
      "Requirement already satisfied: click in d:\\anaconda3\\lib\\site-packages (from nltk<4.0.0,>=3.8.1->llama-index-core<0.11.0,>=0.10.35->llama_index) (7.1.2)\n",
      "Requirement already satisfied: distro<2,>=1.7.0 in d:\\anaconda3\\lib\\site-packages (from openai>=1.14.0->llama-index-agent-openai<0.3.0,>=0.1.4->llama_index) (1.9.0)\n",
      "Requirement already satisfied: exceptiongroup>=1.0.2 in d:\\anaconda3\\lib\\site-packages (from anyio->httpx->llama-index-core<0.11.0,>=0.10.35->llama_index) (1.2.1)\n",
      "Requirement already satisfied: pydantic-core==2.18.2 in d:\\anaconda3\\lib\\site-packages (from pydantic>=1.10->llamaindex-py-client<0.2.0,>=0.1.18->llama-index-core<0.11.0,>=0.10.35->llama_index) (2.18.2)\n",
      "Requirement already satisfied: annotated-types>=0.4.0 in d:\\anaconda3\\lib\\site-packages (from pydantic>=1.10->llamaindex-py-client<0.2.0,>=0.1.18->llama-index-core<0.11.0,>=0.10.35->llama_index) (0.6.0)\n",
      "Requirement already satisfied: charset-normalizer<4,>=2 in d:\\anaconda3\\lib\\site-packages (from requests>=2.31.0->llama-index-core<0.11.0,>=0.10.35->llama_index) (3.3.2)\n",
      "Requirement already satisfied: urllib3<3,>=1.21.1 in d:\\anaconda3\\lib\\site-packages (from requests>=2.31.0->llama-index-core<0.11.0,>=0.10.35->llama_index) (1.26.4)\n",
      "Requirement already satisfied: greenlet!=0.4.17 in d:\\anaconda3\\lib\\site-packages (from SQLAlchemy[asyncio]>=1.4.49->llama-index-core<0.11.0,>=0.10.35->llama_index) (1.0.0)\n",
      "Requirement already satisfied: colorama in d:\\anaconda3\\lib\\site-packages (from tqdm<5.0.0,>=4.66.1->llama-index-core<0.11.0,>=0.10.35->llama_index) (0.4.4)\n",
      "Requirement already satisfied: mypy-extensions>=0.3.0 in d:\\anaconda3\\lib\\site-packages (from typing-inspect>=0.8.0->llama-index-core<0.11.0,>=0.10.35->llama_index) (0.4.3)\n",
      "Requirement already satisfied: marshmallow<4.0.0,>=3.18.0 in d:\\anaconda3\\lib\\site-packages (from dataclasses-json->llama-index-core<0.11.0,>=0.10.35->llama_index) (3.21.2)\n",
      "Requirement already satisfied: packaging>=17.0 in d:\\anaconda3\\lib\\site-packages (from marshmallow<4.0.0,>=3.18.0->dataclasses-json->llama-index-core<0.11.0,>=0.10.35->llama_index) (23.2)\n",
      "Requirement already satisfied: pytz>=2017.3 in d:\\anaconda3\\lib\\site-packages (from pandas->llama-index-core<0.11.0,>=0.10.35->llama_index) (2021.1)\n",
      "Requirement already satisfied: python-dateutil>=2.7.3 in d:\\anaconda3\\lib\\site-packages (from pandas->llama-index-core<0.11.0,>=0.10.35->llama_index) (2.8.1)\n",
      "Requirement already satisfied: six>=1.5 in d:\\anaconda3\\lib\\site-packages (from python-dateutil>=2.7.3->pandas->llama-index-core<0.11.0,>=0.10.35->llama_index) (1.15.0)\n"
     ]
    }
   ],
   "source": [
    "## Retrieval augmented generation\n",
    "\n",
    "import os\n",
    "from dotenv import load_dotenv\n",
    "load_dotenv()\n",
    "!pip install llama_index"
   ]
  },
  {
   "cell_type": "code",
   "execution_count": 5,
   "metadata": {
    "scrolled": true
   },
   "outputs": [],
   "source": [
    "os.environ=os.getenv(\"open_ai_api\")"
   ]
  },
  {
   "cell_type": "code",
   "execution_count": null,
   "metadata": {},
   "outputs": [
    {
     "name": "stdout",
     "output_type": "stream",
     "text": [
      "ERROR! Session/line number was not unique in database. History logging moved to new session 530\n"
     ]
    }
   ],
   "source": [
    "from llama_index import VectorStoreIndex,SimpleDirectoryReader\n",
    "documents=SimpleDirectoryReader(\"TAGR.pdf\").load_data()\n",
    "documents"
   ]
  },
  {
   "cell_type": "code",
   "execution_count": null,
   "metadata": {},
   "outputs": [
    {
     "name": "stdout",
     "output_type": "stream",
     "text": [
      "ERROR! Session/line number was not unique in database. History logging moved to new session 531\n"
     ]
    }
   ],
   "source": [
    "index=VectorStoreIndex.from_documents(documents,show_progress=True)"
   ]
  },
  {
   "cell_type": "code",
   "execution_count": null,
   "metadata": {},
   "outputs": [
    {
     "name": "stdout",
     "output_type": "stream",
     "text": [
      "ERROR! Session/line number was not unique in database. History logging moved to new session 532\n"
     ]
    }
   ],
   "source": [
    "index"
   ]
  },
  {
   "cell_type": "code",
   "execution_count": null,
   "metadata": {},
   "outputs": [
    {
     "name": "stdout",
     "output_type": "stream",
     "text": [
      "ERROR! Session/line number was not unique in database. History logging moved to new session 533\n"
     ]
    }
   ],
   "source": [
    "query_engine=index.as_query_engine()"
   ]
  },
  {
   "cell_type": "code",
   "execution_count": null,
   "metadata": {},
   "outputs": [
    {
     "name": "stdout",
     "output_type": "stream",
     "text": [
      "ERROR! Session/line number was not unique in database. History logging moved to new session 534\n"
     ]
    }
   ],
   "source": [
    "from llama_index.retrievers import VectorIndexRetriever\n",
    "from llama_index.query_engine import RetrieverQueryEngine\n",
    "from llama_index.indices.postprocessor import SimilarityPostprocessor\n",
    "\n",
    "retriever=VectorIndexRetriever(index=index,similarity_top_k=4)\n",
    "postprocessor=SimilarityPostprocessor(similarity_cutoff=0.80)\n",
    "\n",
    "query_engine=RetrieverQueryEngine(retriever=retriever,\n",
    "                                  node_postprocessors=[postprocessor])\n"
   ]
  },
  {
   "cell_type": "code",
   "execution_count": null,
   "metadata": {},
   "outputs": [
    {
     "name": "stdout",
     "output_type": "stream",
     "text": [
      "ERROR! Session/line number was not unique in database. History logging moved to new session 535\n"
     ]
    }
   ],
   "source": [
    "response=query_engine.query(\"who is author of think  and grow rich?\")"
   ]
  },
  {
   "cell_type": "code",
   "execution_count": null,
   "metadata": {},
   "outputs": [
    {
     "name": "stdout",
     "output_type": "stream",
     "text": [
      "ERROR! Session/line number was not unique in database. History logging moved to new session 536\n"
     ]
    }
   ],
   "source": [
    "from llama_index.response.pprint_utils import pprint_response\n",
    "pprint_response(response,show_source=True)\n",
    "print(response)"
   ]
  },
  {
   "cell_type": "code",
   "execution_count": null,
   "metadata": {},
   "outputs": [
    {
     "name": "stdout",
     "output_type": "stream",
     "text": [
      "ERROR! Session/line number was not unique in database. History logging moved to new session 538\n"
     ]
    }
   ],
   "source": [
    "import os.path\n",
    "from llama_index import (\n",
    "    VectorStoreIndex,\n",
    "    SimpleDirectoryReader,\n",
    "    StorageContext,\n",
    "    load_index_from_storage,\n",
    ")\n",
    "\n",
    "# check if storage already exists\n",
    "PERSIST_DIR = \"TAGR.pdf\"\n",
    "if not os.path.exists(PERSIST_DIR):\n",
    "    # load the documents and create the index\n",
    "    documents = SimpleDirectoryReader(\"TAGR.pdf\").load_data()\n",
    "    index = VectorStoreIndex.from_documents(documents)\n",
    "    # store it for later\n",
    "    index.storage_context.persist(persist_dir=PERSIST_DIR)\n",
    "else:\n",
    "    # load the existing index\n",
    "    storage_context = StorageContext.from_defaults(persist_dir=PERSIST_DIR)\n",
    "    index = load_index_from_storage(storage_context)\n",
    "\n",
    "# either way we can now query the index\n",
    "query_engine = index.as_query_engine()\n",
    "response = query_engine.query(\"Who is author of think and grow rich?\")\n",
    "print(response)"
   ]
  },
  {
   "cell_type": "code",
   "execution_count": null,
   "metadata": {},
   "outputs": [],
   "source": []
  }
 ],
 "metadata": {
  "kernelspec": {
   "display_name": "Python 3",
   "language": "python",
   "name": "python3"
  },
  "language_info": {
   "codemirror_mode": {
    "name": "ipython",
    "version": 3
   },
   "file_extension": ".py",
   "mimetype": "text/x-python",
   "name": "python",
   "nbconvert_exporter": "python",
   "pygments_lexer": "ipython3",
   "version": "3.8.8"
  }
 },
 "nbformat": 4,
 "nbformat_minor": 2
}
